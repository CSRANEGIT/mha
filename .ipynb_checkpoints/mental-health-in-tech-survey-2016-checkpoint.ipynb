{
 "cells": [
  {
   "cell_type": "markdown",
   "metadata": {
    "_uuid": "d9d9c04a4e835857c2c518075e49ef7d560c9159"
   },
   "source": [
    "1. Abstract\n",
    "2. Library and data loading\n",
    "3. Data cleaning\n",
    "4. Exploratory data analysis\n",
    "5. Machine Learning\n",
    "\n"
   ]
  },
  {
   "cell_type": "markdown",
   "metadata": {
    "_uuid": "689dbfc0d42dca930759b4bbfe394579c1b7e571",
    "collapsed": true
   },
   "source": [
    "## Abstract\n",
    "\n",
    "Mental health issues are very prevalent, Steel et al in 2014 said that approximately 1 in 5 people (17.6%, 95% confidence interval:16.3–18.9%) were identified as meeting criteria for a common mental disorder during the 12-months preceding assessment. And 29.2% (25.9–32.6%) were identified as having experienced a common mental disorder at some time during their lifetimes. (https://www.ncbi.nlm.nih.gov/pmc/articles/PMC3997379/)\n",
    "    \n",
    "The Open Sourcing Mental Illness made a survey in 2016 with more than 1400 IT workers around the world asking some questions about mental health. The complete raw data is here: https://osmihelp.org/research/. We'll see some resoults from this survey.\n",
    "\n",
    "Almost 60% of the responders already seeked treatment for a mental illness. It seems to be more concentrated 25 and 40 years old.\n",
    "\n",
    "Most people who seek for treatment consider that their productivity is affected by the illnes and their career would be hurt. Who doesn't seek for treatment too, but in a minor rate, and they think it maybe would hurt their career.\n",
    "\n",
    "Most people have a family history of mental illness, between who seek for treatment, the rate is even higher.\n",
    "\n",
    "Who seek for treatment seems to know more the local and online resources for mental health issues.\n",
    "\n",
    "Most responders who don't seek for treatment think think is \"somewhat easy\" or \"very easy\" to leave from work for a medical issue. But who seek for treatment told it could not be so easy.\n",
    "\n",
    "In a job interview, most maybe would talk about a physical health issue but won't talk about a mental illness.\n",
    "And the most people would talk with supervisors rather than with coworkers.\n",
    "\n",
    "<h3>Conclusion:</h3>\n",
    "\n",
    "Using a Random Forest, with the 48 higher positive correlated, and 48 higher negative ones, we can predict with accuracy of 0.87 and a standard deviation 0.00471 if someone looked for treatment or not.\n",
    "\n",
    "If the employer doesn't have the money to offer mental health coverage to all his employees, he can concentrate the efforts offering mental health help just to the people with more risk of having a mental disease making his mental health program more efficient."
   ]
  },
  {
   "cell_type": "markdown",
   "metadata": {
    "_uuid": "efd806dd3781efc51e6c6371119f344f335ddcf2"
   },
   "source": [
    "## Library and data loading"
   ]
  },
  {
   "cell_type": "code",
   "execution_count": null,
   "metadata": {
    "_uuid": "83dacb77acdfdd15a6e1043400d7b299409ee760",
    "collapsed": true
   },
   "outputs": [],
   "source": [
    "import pandas as pd\n",
    "import numpy as np\n",
    "\n",
    "import matplotlib.pyplot as plt\n",
    "import seaborn as sns\n",
    "%matplotlib inline\n",
    "style = plt.style.available\n",
    "\n",
    "from sklearn.preprocessing import LabelEncoder\n",
    "\n",
    "pd.set_option('max_colwidth', 200)\n",
    "pd.set_option('max_columns', 100)"
   ]
  },
  {
   "cell_type": "markdown",
   "metadata": {
    "_uuid": "6a04834bb81273771a1a983ca7a5137cd39a8b14"
   },
   "source": [
    "<h2>Data cleaning</h2>"
   ]
  },
  {
   "cell_type": "code",
   "execution_count": null,
   "metadata": {
    "_uuid": "4c17e09db23d3c44eb0a3ae8f723586e1f9fe8d5",
    "collapsed": true,
    "scrolled": false
   },
   "outputs": [],
   "source": [
    "url = '../input/mental-health-in-tech-2016/mental-heath-in-tech-2016_20161114.csv'\n",
    "df = pd.read_csv(url)"
   ]
  },
  {
   "cell_type": "code",
   "execution_count": null,
   "metadata": {
    "_uuid": "c899fc1c191ac0883d61e9997aaa77c9e6aefb11",
    "collapsed": true
   },
   "outputs": [],
   "source": [
    "df.shape"
   ]
  },
  {
   "cell_type": "code",
   "execution_count": null,
   "metadata": {
    "_uuid": "838dfca3deaf9595eea033ad7cb413a06a6bc00d",
    "collapsed": true
   },
   "outputs": [],
   "source": [
    "df.head(1)"
   ]
  },
  {
   "cell_type": "code",
   "execution_count": null,
   "metadata": {
    "_uuid": "a80fdc87e394aab76cfdca023b8732425fca4295",
    "collapsed": true
   },
   "outputs": [],
   "source": [
    "# Duplicated data?\n",
    "df.duplicated(keep=False).value_counts()"
   ]
  },
  {
   "cell_type": "markdown",
   "metadata": {
    "_uuid": "b5121551757fc69b88f763048371df426be063ae"
   },
   "source": [
    "<h4> First sight: </h4>\n",
    "\n",
    "* The columns are with big names. I need a legend.\n",
    "* Some categorical data as integers and others as strings\n",
    "* Some categorical data are standardized, others not\n",
    "* target is: 'Have you ever sought treatment for a mental health issue from a mental health professional?\n",
    "* No duplicated data."
   ]
  },
  {
   "cell_type": "code",
   "execution_count": null,
   "metadata": {
    "_uuid": "55825419bd318b02fcb90c73c9dc29b99b8239d8",
    "collapsed": true
   },
   "outputs": [],
   "source": [
    "# encoding columns:\n",
    "\n",
    "le_columns = LabelEncoder()\n",
    "le_columns.fit(df.columns)\n",
    "df.columns = le_columns.transform(df.columns)\n",
    "\n",
    "# use 'le_columns.inverse_transform(['labels_here'])' to see the definition of the columns."
   ]
  },
  {
   "cell_type": "code",
   "execution_count": null,
   "metadata": {
    "_uuid": "cf9043745dbeb2cd1e97c6d5e1c718fda758b1f9",
    "collapsed": true,
    "scrolled": true
   },
   "outputs": [],
   "source": [
    "# set the target column\n",
    "\n",
    "subt_columns = pd.Series(le_columns.inverse_transform(df.columns), index=df.columns)\n",
    "subt_columns.loc[subt_columns == 'Have you ever sought treatment for a mental health issue from a mental health professional?']"
   ]
  },
  {
   "cell_type": "code",
   "execution_count": null,
   "metadata": {
    "_uuid": "d1a87b1e909d559adfb4b240ffcbe770b9255ed2",
    "collapsed": true
   },
   "outputs": [],
   "source": [
    "target = 24"
   ]
  },
  {
   "cell_type": "code",
   "execution_count": null,
   "metadata": {
    "_uuid": "48b5369fa370662a8ce25b897337b87fe8b1f3b5",
    "collapsed": true
   },
   "outputs": [],
   "source": [
    "# standardizing the data\n",
    "\n",
    "no_std = []\n",
    "for c in df.columns:\n",
    "    if len(df[c].value_counts(dropna=False)) > 10: # 10 was an arbitrary number\n",
    "        no_std.append(c)\n",
    "no_std"
   ]
  },
  {
   "cell_type": "code",
   "execution_count": null,
   "metadata": {
    "_uuid": "92e08318479afd5ea2f8e11d189a9a7ff82f9475",
    "collapsed": true
   },
   "outputs": [],
   "source": [
    "# manual inspection:\n",
    "\n",
    "dict = zip(no_std, le_columns.inverse_transform(no_std))\n",
    "for i in dict:\n",
    "    print(i)\n",
    "    print('Number of categories:', len(df[i[0]].value_counts(dropna=False)))"
   ]
  },
  {
   "cell_type": "markdown",
   "metadata": {
    "_uuid": "4536301afdccf1904486f475f7feef5c82358c78"
   },
   "source": [
    "<h4> drop: [55, 56, 35, 33, 34, 48, 49, 54]</h4>\n",
    "\n",
    "<h4>stay: [52, 53, 50, 51]</h4>"
   ]
  },
  {
   "cell_type": "code",
   "execution_count": null,
   "metadata": {
    "_uuid": "cbe3d8b30ba760ed2d575a9021e96f857adf133b",
    "collapsed": true
   },
   "outputs": [],
   "source": [
    "df = df.drop([55, 56, 35, 33, 34, 48, 49, 54], axis = 1)"
   ]
  },
  {
   "cell_type": "code",
   "execution_count": null,
   "metadata": {
    "_uuid": "718d2c40707ed78de2e55199ea1e60dbca70ef61",
    "collapsed": true
   },
   "outputs": [],
   "source": [
    "# dropping wrong age values - (52, 'What is your age?')\n",
    "\n",
    "a = list(df[df[52] > 90].index)\n",
    "b = (list(df[df[52] < 15].index))\n",
    "c = a + b\n",
    "print(df[52].loc[c])\n",
    "df = df.drop(c)"
   ]
  },
  {
   "cell_type": "code",
   "execution_count": null,
   "metadata": {
    "_uuid": "e62e1d54478aa4e77b279fbcd530992b0ac834f6",
    "collapsed": true
   },
   "outputs": [],
   "source": [
    "# column (53, 'What is your gender?')\n",
    "\n",
    "df[53] = df[53].str.lower().str.strip()\n",
    "df[53].value_counts()\n",
    "\n",
    "m = ['Male', 'male', 'M', 'm', 'Cis Male', 'man', 'ostensibly male, unsure what that really means', 'Mail', 'Make', \n",
    "     'male (cis)', 'cis male', 'maile', 'Malr', 'Cis Man', 'Mal', 'msle', 'male.', 'sex is male', 'malr', \n",
    "     'cis man', 'mail' ]\n",
    "     \n",
    "f = ['Female', 'female', 'F', 'f', 'Woman', 'Femake', 'Female (cis)', 'cis female', 'woman', 'femail', \n",
    "     'cis-female/femme', 'i identify as female.', 'cis-woman', 'cisgender female', \n",
    "     'female (props for making this a freeform field, though)', 'female/woman', 'female assigned at birth' ]\n",
    "df[53] = df[53].replace(m, 'm')\n",
    "df[53] = df[53].replace(f, 'f')\n",
    "\n",
    "o = list(df[53].value_counts().index)[2:]\n",
    "df[53] = df[53].replace(o, 'o')\n",
    "df[53].value_counts()"
   ]
  },
  {
   "cell_type": "code",
   "execution_count": null,
   "metadata": {
    "_uuid": "1cf4586ae91b0b6f3bf31938f1e2d8d9ad4b034a",
    "collapsed": true
   },
   "outputs": [],
   "source": [
    "# Change countries to continents\n",
    "# (50, 'What country do you live in?')\n",
    "# (51, 'What country do you work in?')\n",
    "\n",
    "url = '../input/countries-and-continents/continents.csv'\n",
    "continents = pd.read_csv(url, usecols=['Name', 'continent'], index_col='Name', squeeze=True)\n",
    "\n",
    "for c in continents.unique():\n",
    "    l = continents[continents == c].index\n",
    "    df[50] = df[50].replace(l, c)\n",
    "    df[51] = df[51].replace(l, c)\n",
    "\n",
    "# Drop rows with response = 'Other'\n",
    "df = df.drop([820, 880])\n",
    "\n",
    "df[51].value_counts(dropna=False)"
   ]
  },
  {
   "cell_type": "code",
   "execution_count": null,
   "metadata": {
    "_uuid": "acf262a959bf395d68fa5bb7cd9ea9bae0b00975",
    "collapsed": true,
    "scrolled": true
   },
   "outputs": [],
   "source": [
    "# Are the floats and int already categorical?\n",
    "\n",
    "floa = []\n",
    "inte = []\n",
    "\n",
    "for c in df.columns:\n",
    "    if df[c].dtype == float:\n",
    "        floa.append(c)\n",
    "    elif df[c].dtype == int:\n",
    "        inte.append(c)\n",
    "\n",
    "        \n",
    "print (set(zip(floa, le_columns.inverse_transform(floa))))\n",
    "print (set(zip(inte, le_columns.inverse_transform(inte))))"
   ]
  },
  {
   "cell_type": "markdown",
   "metadata": {
    "_uuid": "4babb3d67b0afb0b0b3a761951043297984a9f0b"
   },
   "source": [
    "<h4>Only the column (52, 'What is your age?') is really numeric.</h4>"
   ]
  },
  {
   "cell_type": "code",
   "execution_count": null,
   "metadata": {
    "_uuid": "c7bd385bb621e6242208db06fbd5a00bdd37deae",
    "collapsed": true
   },
   "outputs": [],
   "source": [
    "# correcting columns types:\n",
    "for c in df.columns:\n",
    "    if c != 52 and c != target:\n",
    "        df[c] = df[c].astype('category')"
   ]
  },
  {
   "cell_type": "markdown",
   "metadata": {
    "_uuid": "96521d92a5e93861218b786312a384d054fb7e86"
   },
   "source": [
    "<h3>Interesting graphics</h3>"
   ]
  },
  {
   "cell_type": "code",
   "execution_count": null,
   "metadata": {
    "_uuid": "dd3e2a6ca2569c2249084ef57326116edd12a77f",
    "collapsed": true
   },
   "outputs": [],
   "source": [
    "# choosing interesting data manually\n",
    "\n",
    "age = 52\n",
    "cat = [5, 7, 9, 12, 19, 32, 57, 58, 59, 60]"
   ]
  },
  {
   "cell_type": "code",
   "execution_count": null,
   "metadata": {
    "_uuid": "d0741f330941f18d2e66f2ec981d7697d5b0c268",
    "collapsed": true
   },
   "outputs": [],
   "source": [
    "le_columns.inverse_transform([24])"
   ]
  },
  {
   "cell_type": "code",
   "execution_count": null,
   "metadata": {
    "_uuid": "281c1b55a40340e5d46eae3e903fc8af2f0ac720",
    "collapsed": true
   },
   "outputs": [],
   "source": [
    "target"
   ]
  },
  {
   "cell_type": "code",
   "execution_count": null,
   "metadata": {
    "_uuid": "640b0a25e99fea96adaf3febef355dd43c99275d",
    "collapsed": true,
    "scrolled": false
   },
   "outputs": [],
   "source": [
    "# plotting graphics\n",
    "plt.figure(figsize=(14, 5))\n",
    "(df[target].value_counts(normalize=True) * 100).plot(kind='bar')\n",
    "plt.ylabel('%')\n",
    "plt.xlabel('Seek treatment')\n",
    "plt.xticks(np.arange(2), ['Yes', 'No'])\n",
    "plt.suptitle(str(le_columns.inverse_transform([target]))[2:-2], fontsize=16, y=1.1)\n",
    "plt.show()\n",
    "\n",
    "plt.figure(figsize=(14, 5))\n",
    "plt.subplot(131)\n",
    "sns.distplot(df[age], rug=True)\n",
    "plt.subplot(132)\n",
    "sns.distplot(df[age][df[target] == 1], rug=True, axlabel='Ages with treatment')\n",
    "plt.subplot(133)\n",
    "sns.distplot(df[age][df[target] == 0], rug=True, axlabel='Ages without treatment')\n",
    "plt.suptitle(str(le_columns.inverse_transform([age]))[2:-2], fontsize=16, y=1.1)\n",
    "plt.show()\n",
    "\n",
    "for g, s in zip(cat, style):\n",
    "    plt.figure(figsize=(14, 5))\n",
    "    ax1 = plt.subplot(131)\n",
    "    (df[g].value_counts(normalize=True) * 100).plot(kind='bar')\n",
    "    plt.ylabel('%')\n",
    "    plt.xlabel('All')\n",
    "    \n",
    "    ax2 = plt.subplot(132, sharey=ax1)\n",
    "    (df[df[target] == 1][g].value_counts(normalize=True) * 100).plot(kind='bar')\n",
    "    plt.ylabel('%')\n",
    "    plt.xlabel('Seek treatment')\n",
    "    \n",
    "    ax3 = plt.subplot(133, sharey=ax1)\n",
    "    (df[df[target] == 0][g].value_counts(normalize=True) * 100).plot(kind='bar')\n",
    "    plt.ylabel('%')\n",
    "    plt.xlabel(\"Don't seek treatment\")\n",
    "    \n",
    "    plt.tight_layout()\n",
    "    plt.suptitle(str(le_columns.inverse_transform([g]))[2:-2], fontsize=16, y=1.1)\n",
    "    print()"
   ]
  },
  {
   "cell_type": "markdown",
   "metadata": {
    "_uuid": "ecf41fd8e5f265216ccc6425142d8fff83f9c029"
   },
   "source": [
    "<h2>Machine Learning</h2>"
   ]
  },
  {
   "cell_type": "code",
   "execution_count": null,
   "metadata": {
    "_uuid": "dae5913b07037d663bece2fbccd722fa46dbcc2a",
    "collapsed": true
   },
   "outputs": [],
   "source": [
    "# Make dummy variables to deal with the categorical data and the missing values\n",
    "df_dummy = pd.get_dummies(df, dummy_na=False, drop_first=True)"
   ]
  },
  {
   "cell_type": "markdown",
   "metadata": {
    "_uuid": "29b45f2393f2538fd51ca1bb09813721fd74e603"
   },
   "source": [
    "<h3>Selecting features</h3>"
   ]
  },
  {
   "cell_type": "code",
   "execution_count": null,
   "metadata": {
    "_uuid": "ee4adebdc6ba703ce88835567e08d77029d64912",
    "collapsed": true
   },
   "outputs": [],
   "source": [
    "# Making a Pearson correlation to select the most important features\n",
    "\n",
    "corr = df_dummy.corr()[target].sort_values()[:-1]\n",
    "\n",
    "n = 10 # n is an arbitrary number\n",
    "\n",
    "# Plotting the Pearson correlation\n",
    "plt.figure(figsize=(14, 10))\n",
    "plt.suptitle('Pearson correlation', y=1.1)\n",
    "plt.subplot(211)\n",
    "corr.head(n).sort_values(ascending=False).plot(kind='barh')\n",
    "plt.ylabel('Features')\n",
    "plt.subplot(212)\n",
    "corr.tail(n).sort_values(ascending=True).plot(kind='barh')\n",
    "plt.xlabel('Pearson correlation')\n",
    "plt.ylabel('Features')\n",
    "plt.tight_layout()\n",
    "plt.show()"
   ]
  },
  {
   "cell_type": "code",
   "execution_count": null,
   "metadata": {
    "_uuid": "d8b105ae6410d0ee561050e58336c6509f0aec08",
    "collapsed": true
   },
   "outputs": [],
   "source": [
    "# Making the ML using all features\n",
    "from sklearn.model_selection import cross_val_score\n",
    "from sklearn.ensemble import RandomForestClassifier\n",
    "\n",
    "from sklearn.svm import LinearSVC\n",
    "\n",
    "# df_ml = pd.get_dummies(df, drop_first=True)\n",
    "X = df_dummy.drop(target, axis=1)\n",
    "y = df_dummy[target]\n",
    "\n",
    "linear = LinearSVC(C=0.001)\n",
    "score_lin = cross_val_score(linear, X, y)\n",
    "\n",
    "rf = RandomForestClassifier()\n",
    "score_rf = cross_val_score(rf, X, y)"
   ]
  },
  {
   "cell_type": "code",
   "execution_count": null,
   "metadata": {
    "_uuid": "fad9390db4dfb3489fe93e2f62bd9da3690010a5",
    "collapsed": true
   },
   "outputs": [],
   "source": [
    "print('rf: ', score_rf.mean(), score_rf.std())\n",
    "print('linear: ', score_lin.mean(), score_lin.std())"
   ]
  },
  {
   "cell_type": "code",
   "execution_count": null,
   "metadata": {
    "_uuid": "2bc089a2339bd1f29e37ddeb6b0a11a12ed82a39",
    "collapsed": true,
    "scrolled": false
   },
   "outputs": [],
   "source": [
    "# Random Forest using only the most important features\n",
    "\n",
    "from heapq import nlargest\n",
    "\n",
    "for g in range(1):\n",
    "    scores = {}\n",
    "    stds = {}\n",
    "    for n in range(1, 100):\n",
    "        X = (\n",
    "            df_dummy\n",
    "            .drop(target, axis=1)\n",
    "            .loc[:,list(corr.head(n).index) + list(corr.tail(n).index)]\n",
    "        )\n",
    "        y = df_dummy[target]\n",
    "\n",
    "        rf = RandomForestClassifier()\n",
    "        score = cross_val_score(rf, X, y)\n",
    "        scores[n * 2] = score.mean()\n",
    "        stds[n * 2] = score.std()\n",
    "\n",
    "    plt.figure(figsize=(14, 5))\n",
    "    plt.subplot(121)\n",
    "    pd.Series(scores).plot()\n",
    "    plt.xlabel('Num de features')\n",
    "    plt.ylabel('Acurácia')\n",
    "    \n",
    "    plt.subplot(122)\n",
    "    pd.Series(stds).plot()\n",
    "    plt.xlabel('Num de features')\n",
    "    plt.ylabel('Desvio padrão')\n",
    "    plt.tight_layout()\n",
    "    plt.show()\n",
    "    \n",
    "    largest = nlargest(10, scores, key=scores.get)\n",
    "    for i in largest:\n",
    "        print('O número de features é {} com {:.2f} de acurácia e desvio padrão de {:.5f}.'\n",
    "              .format(i, scores[i], stds[i]))"
   ]
  },
  {
   "cell_type": "code",
   "execution_count": null,
   "metadata": {
    "_uuid": "76842a71012d6bb46d239d6c567fb30a0f947866",
    "collapsed": true,
    "scrolled": false
   },
   "outputs": [],
   "source": [
    "# Linear SVC using only the most important features\n",
    "\n",
    "for g in range(1):\n",
    "    scores = {}\n",
    "    stds = {}\n",
    "    for n in range(1, 100):\n",
    "        X = (\n",
    "            df_dummy\n",
    "            .drop(target, axis=1)\n",
    "            .loc[:,list(corr.head(n).index) + list(corr.tail(n).index)]\n",
    "        )\n",
    "        y = df_dummy[target]\n",
    "\n",
    "        clf = LinearSVC(C=0.001)\n",
    "        score = cross_val_score(clf, X, y)\n",
    "        scores[n * 2] = score.mean()\n",
    "        stds[n * 2] = score.std()\n",
    "\n",
    "    plt.figure(figsize=(14, 5))\n",
    "    plt.subplot(121)\n",
    "    pd.Series(scores).plot()\n",
    "    plt.xlabel('Num de features')\n",
    "    plt.ylabel('Acurácia')\n",
    "    \n",
    "    plt.subplot(122)\n",
    "    pd.Series(stds).plot()\n",
    "    plt.xlabel('Num de features')\n",
    "    plt.ylabel('Desvio padrão')\n",
    "    plt.tight_layout()\n",
    "    plt.show()\n",
    "    \n",
    "    largest = nlargest(10, scores, key=scores.get)\n",
    "    for i in largest:\n",
    "        print('O número de features é {} com {:.2f} de acurácia e desvio padrão de {:.5f}.'\n",
    "              .format(i, scores[i], stds[i]))\n",
    "    "
   ]
  },
  {
   "cell_type": "code",
   "execution_count": null,
   "metadata": {
    "_uuid": "d3e66a8df7f613a6a3660674937be22135813655",
    "collapsed": true
   },
   "outputs": [],
   "source": []
  }
 ],
 "metadata": {
  "kernelspec": {
   "display_name": "Python 3",
   "language": "python",
   "name": "python3"
  },
  "language_info": {
   "codemirror_mode": {
    "name": "ipython",
    "version": 3
   },
   "file_extension": ".py",
   "mimetype": "text/x-python",
   "name": "python",
   "nbconvert_exporter": "python",
   "pygments_lexer": "ipython3",
   "version": "3.9.7"
  }
 },
 "nbformat": 4,
 "nbformat_minor": 1
}
